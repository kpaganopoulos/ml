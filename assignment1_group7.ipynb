{
 "cells": [
  {
   "cell_type": "code",
   "execution_count": 107,
   "metadata": {},
   "outputs": [],
   "source": [
    "import pandas as pd\n",
    "import numpy as np\n",
    "from sklearn.preprocessing import StandardScaler\n",
    "from sklearn.neighbors import KNeighborsClassifier\n",
    "from sklearn.metrics import classification_report\n",
    "from sklearn.metrics import accuracy_score\n",
    "from sklearn.metrics import mean_squared_error as MSE\n",
    "import matplotlib.pyplot as plt\n",
    "from tabulate import tabulate"
   ]
  },
  {
   "cell_type": "markdown",
   "metadata": {},
   "source": [
    "## Group 7 - Assignment 1"
   ]
  },
  {
   "cell_type": "markdown",
   "metadata": {},
   "source": [
    "### Import data"
   ]
  },
  {
   "cell_type": "code",
   "execution_count": 108,
   "metadata": {},
   "outputs": [
    {
     "data": {
      "text/plain": [
       "(800, 12)"
      ]
     },
     "execution_count": 108,
     "metadata": {},
     "output_type": "execute_result"
    }
   ],
   "source": [
    "df = pd.read_csv(\"sparklingwine.csv\", sep=',')\n",
    "df.shape"
   ]
  },
  {
   "cell_type": "markdown",
   "metadata": {},
   "source": [
    "### Create new binary column \"goodwine\" to indicate if the wine is good (quality >= 6)"
   ]
  },
  {
   "cell_type": "code",
   "execution_count": 109,
   "metadata": {},
   "outputs": [
    {
     "data": {
      "text/html": [
       "<div>\n",
       "<style scoped>\n",
       "    .dataframe tbody tr th:only-of-type {\n",
       "        vertical-align: middle;\n",
       "    }\n",
       "\n",
       "    .dataframe tbody tr th {\n",
       "        vertical-align: top;\n",
       "    }\n",
       "\n",
       "    .dataframe thead th {\n",
       "        text-align: right;\n",
       "    }\n",
       "</style>\n",
       "<table border=\"1\" class=\"dataframe\">\n",
       "  <thead>\n",
       "    <tr style=\"text-align: right;\">\n",
       "      <th></th>\n",
       "      <th>fixed acidity</th>\n",
       "      <th>volatile acidity</th>\n",
       "      <th>citric acid</th>\n",
       "      <th>residual sugar</th>\n",
       "      <th>chlorides</th>\n",
       "      <th>free sulfur dioxide</th>\n",
       "      <th>total sulfur dioxide</th>\n",
       "      <th>density</th>\n",
       "      <th>pH</th>\n",
       "      <th>sulphates</th>\n",
       "      <th>alcohol</th>\n",
       "      <th>quality</th>\n",
       "      <th>goodwine</th>\n",
       "    </tr>\n",
       "  </thead>\n",
       "  <tbody>\n",
       "    <tr>\n",
       "      <td>0</td>\n",
       "      <td>7.4</td>\n",
       "      <td>0.70</td>\n",
       "      <td>0.00</td>\n",
       "      <td>1.9</td>\n",
       "      <td>0.076</td>\n",
       "      <td>11.0</td>\n",
       "      <td>34</td>\n",
       "      <td>0.9978</td>\n",
       "      <td>3.51</td>\n",
       "      <td>0.56</td>\n",
       "      <td>9.4</td>\n",
       "      <td>5</td>\n",
       "      <td>0</td>\n",
       "    </tr>\n",
       "    <tr>\n",
       "      <td>1</td>\n",
       "      <td>7.8</td>\n",
       "      <td>0.88</td>\n",
       "      <td>0.00</td>\n",
       "      <td>2.6</td>\n",
       "      <td>0.098</td>\n",
       "      <td>25.0</td>\n",
       "      <td>67</td>\n",
       "      <td>0.9968</td>\n",
       "      <td>3.20</td>\n",
       "      <td>0.68</td>\n",
       "      <td>9.8</td>\n",
       "      <td>5</td>\n",
       "      <td>0</td>\n",
       "    </tr>\n",
       "    <tr>\n",
       "      <td>2</td>\n",
       "      <td>7.8</td>\n",
       "      <td>0.76</td>\n",
       "      <td>0.04</td>\n",
       "      <td>2.3</td>\n",
       "      <td>0.092</td>\n",
       "      <td>15.0</td>\n",
       "      <td>54</td>\n",
       "      <td>0.9970</td>\n",
       "      <td>3.26</td>\n",
       "      <td>0.65</td>\n",
       "      <td>9.8</td>\n",
       "      <td>5</td>\n",
       "      <td>0</td>\n",
       "    </tr>\n",
       "    <tr>\n",
       "      <td>3</td>\n",
       "      <td>11.2</td>\n",
       "      <td>0.28</td>\n",
       "      <td>0.56</td>\n",
       "      <td>1.9</td>\n",
       "      <td>0.075</td>\n",
       "      <td>17.0</td>\n",
       "      <td>60</td>\n",
       "      <td>0.9980</td>\n",
       "      <td>3.16</td>\n",
       "      <td>0.58</td>\n",
       "      <td>9.8</td>\n",
       "      <td>5</td>\n",
       "      <td>0</td>\n",
       "    </tr>\n",
       "    <tr>\n",
       "      <td>4</td>\n",
       "      <td>7.4</td>\n",
       "      <td>0.70</td>\n",
       "      <td>0.00</td>\n",
       "      <td>1.9</td>\n",
       "      <td>0.076</td>\n",
       "      <td>11.0</td>\n",
       "      <td>34</td>\n",
       "      <td>0.9978</td>\n",
       "      <td>3.51</td>\n",
       "      <td>0.56</td>\n",
       "      <td>9.4</td>\n",
       "      <td>5</td>\n",
       "      <td>0</td>\n",
       "    </tr>\n",
       "  </tbody>\n",
       "</table>\n",
       "</div>"
      ],
      "text/plain": [
       "   fixed acidity  volatile acidity  citric acid  residual sugar  chlorides  \\\n",
       "0            7.4              0.70         0.00             1.9      0.076   \n",
       "1            7.8              0.88         0.00             2.6      0.098   \n",
       "2            7.8              0.76         0.04             2.3      0.092   \n",
       "3           11.2              0.28         0.56             1.9      0.075   \n",
       "4            7.4              0.70         0.00             1.9      0.076   \n",
       "\n",
       "   free sulfur dioxide  total sulfur dioxide  density    pH  sulphates  \\\n",
       "0                 11.0                    34   0.9978  3.51       0.56   \n",
       "1                 25.0                    67   0.9968  3.20       0.68   \n",
       "2                 15.0                    54   0.9970  3.26       0.65   \n",
       "3                 17.0                    60   0.9980  3.16       0.58   \n",
       "4                 11.0                    34   0.9978  3.51       0.56   \n",
       "\n",
       "   alcohol  quality  goodwine  \n",
       "0      9.4        5         0  \n",
       "1      9.8        5         0  \n",
       "2      9.8        5         0  \n",
       "3      9.8        5         0  \n",
       "4      9.4        5         0  "
      ]
     },
     "execution_count": 109,
     "metadata": {},
     "output_type": "execute_result"
    }
   ],
   "source": [
    "df['goodwine'] = df.quality.apply(lambda x: int(x>=6))\n",
    "df.head()"
   ]
  },
  {
   "cell_type": "markdown",
   "metadata": {},
   "source": [
    "### Split the data into train (first 400), validation (next 200) and test (last 200)"
   ]
  },
  {
   "cell_type": "code",
   "execution_count": 110,
   "metadata": {},
   "outputs": [],
   "source": [
    "df_train = df.iloc[0:400]\n",
    "df_validation = df.iloc[400:600]\n",
    "df_test = df.iloc[600:]\n",
    "\n",
    "# df_train_validation is used for training the scaler\n",
    "df_train_validation = df.iloc[0:600]\n",
    "X_train_validation = df_train_validation.drop(['goodwine','quality'], axis=1) # drop the quality because we derived goodwine from quality\n",
    "\n",
    "X_train = df_train.drop(['goodwine','quality'], axis=1)\n",
    "y_train = df_train['goodwine']\n",
    "\n",
    "X_validation = df_validation.drop(['goodwine','quality'], axis=1)\n",
    "y_validation = df_validation['goodwine']\n",
    "\n",
    "X_test = df_test.drop(['goodwine','quality'], axis=1)\n",
    "y_test = df_test['goodwine']\n"
   ]
  },
  {
   "cell_type": "markdown",
   "metadata": {},
   "source": [
    "### Normalize the data with Z score"
   ]
  },
  {
   "cell_type": "code",
   "execution_count": 111,
   "metadata": {},
   "outputs": [],
   "source": [
    "# scaler can be used for later X_validation and X_test\n",
    "scaler = StandardScaler().fit(X_train)\n",
    "\n",
    "X_train = scaler.transform(X_train)\n",
    "X_validation = scaler.transform(X_validation)"
   ]
  },
  {
   "cell_type": "markdown",
   "metadata": {},
   "source": [
    "### Train the KNN model with k=1,2 ...100"
   ]
  },
  {
   "cell_type": "code",
   "execution_count": 112,
   "metadata": {},
   "outputs": [
    {
     "name": "stdout",
     "output_type": "stream",
     "text": [
      "+-----+------------+\n",
      "|   K |   Accuracy |\n",
      "+=====+============+\n",
      "|   1 |      0.86  |\n",
      "+-----+------------+\n",
      "|   2 |      0.85  |\n",
      "+-----+------------+\n",
      "|   3 |      0.85  |\n",
      "+-----+------------+\n",
      "|   4 |      0.835 |\n",
      "+-----+------------+\n",
      "|   5 |      0.865 |\n",
      "+-----+------------+\n",
      "|   6 |      0.87  |\n",
      "+-----+------------+\n",
      "|   7 |      0.875 |\n",
      "+-----+------------+\n",
      "|   8 |      0.87  |\n",
      "+-----+------------+\n",
      "|   9 |      0.875 |\n",
      "+-----+------------+\n",
      "|  10 |      0.855 |\n",
      "+-----+------------+\n",
      "|  11 |      0.87  |\n",
      "+-----+------------+\n",
      "|  12 |      0.855 |\n",
      "+-----+------------+\n",
      "|  13 |      0.875 |\n",
      "+-----+------------+\n",
      "|  14 |      0.87  |\n",
      "+-----+------------+\n",
      "|  15 |      0.89  |\n",
      "+-----+------------+\n",
      "|  16 |      0.88  |\n",
      "+-----+------------+\n",
      "|  17 |      0.875 |\n",
      "+-----+------------+\n",
      "|  18 |      0.88  |\n",
      "+-----+------------+\n",
      "|  19 |      0.875 |\n",
      "+-----+------------+\n",
      "|  20 |      0.875 |\n",
      "+-----+------------+\n",
      "|  21 |      0.865 |\n",
      "+-----+------------+\n",
      "|  22 |      0.87  |\n",
      "+-----+------------+\n",
      "|  23 |      0.875 |\n",
      "+-----+------------+\n",
      "|  24 |      0.865 |\n",
      "+-----+------------+\n",
      "|  25 |      0.865 |\n",
      "+-----+------------+\n",
      "|  26 |      0.865 |\n",
      "+-----+------------+\n",
      "|  27 |      0.865 |\n",
      "+-----+------------+\n",
      "|  28 |      0.86  |\n",
      "+-----+------------+\n",
      "|  29 |      0.86  |\n",
      "+-----+------------+\n",
      "|  30 |      0.86  |\n",
      "+-----+------------+\n",
      "|  31 |      0.865 |\n",
      "+-----+------------+\n",
      "|  32 |      0.835 |\n",
      "+-----+------------+\n",
      "|  33 |      0.835 |\n",
      "+-----+------------+\n",
      "|  34 |      0.83  |\n",
      "+-----+------------+\n",
      "|  35 |      0.845 |\n",
      "+-----+------------+\n",
      "|  36 |      0.83  |\n",
      "+-----+------------+\n",
      "|  37 |      0.83  |\n",
      "+-----+------------+\n",
      "|  38 |      0.82  |\n",
      "+-----+------------+\n",
      "|  39 |      0.825 |\n",
      "+-----+------------+\n",
      "|  40 |      0.815 |\n",
      "+-----+------------+\n",
      "|  41 |      0.815 |\n",
      "+-----+------------+\n",
      "|  42 |      0.81  |\n",
      "+-----+------------+\n",
      "|  43 |      0.805 |\n",
      "+-----+------------+\n",
      "|  44 |      0.79  |\n",
      "+-----+------------+\n",
      "|  45 |      0.785 |\n",
      "+-----+------------+\n",
      "|  46 |      0.78  |\n",
      "+-----+------------+\n",
      "|  47 |      0.79  |\n",
      "+-----+------------+\n",
      "|  48 |      0.77  |\n",
      "+-----+------------+\n",
      "|  49 |      0.79  |\n",
      "+-----+------------+\n",
      "|  50 |      0.77  |\n",
      "+-----+------------+\n",
      "|  51 |      0.78  |\n",
      "+-----+------------+\n",
      "|  52 |      0.75  |\n",
      "+-----+------------+\n",
      "|  53 |      0.755 |\n",
      "+-----+------------+\n",
      "|  54 |      0.735 |\n",
      "+-----+------------+\n",
      "|  55 |      0.745 |\n",
      "+-----+------------+\n",
      "|  56 |      0.72  |\n",
      "+-----+------------+\n",
      "|  57 |      0.715 |\n",
      "+-----+------------+\n",
      "|  58 |      0.705 |\n",
      "+-----+------------+\n",
      "|  59 |      0.705 |\n",
      "+-----+------------+\n",
      "|  60 |      0.71  |\n",
      "+-----+------------+\n",
      "|  61 |      0.715 |\n",
      "+-----+------------+\n",
      "|  62 |      0.705 |\n",
      "+-----+------------+\n",
      "|  63 |      0.705 |\n",
      "+-----+------------+\n",
      "|  64 |      0.695 |\n",
      "+-----+------------+\n",
      "|  65 |      0.695 |\n",
      "+-----+------------+\n",
      "|  66 |      0.69  |\n",
      "+-----+------------+\n",
      "|  67 |      0.69  |\n",
      "+-----+------------+\n",
      "|  68 |      0.685 |\n",
      "+-----+------------+\n",
      "|  69 |      0.685 |\n",
      "+-----+------------+\n",
      "|  70 |      0.685 |\n",
      "+-----+------------+\n",
      "|  71 |      0.685 |\n",
      "+-----+------------+\n",
      "|  72 |      0.68  |\n",
      "+-----+------------+\n",
      "|  73 |      0.68  |\n",
      "+-----+------------+\n",
      "|  74 |      0.68  |\n",
      "+-----+------------+\n",
      "|  75 |      0.68  |\n",
      "+-----+------------+\n",
      "|  76 |      0.68  |\n",
      "+-----+------------+\n",
      "|  77 |      0.68  |\n",
      "+-----+------------+\n",
      "|  78 |      0.68  |\n",
      "+-----+------------+\n",
      "|  79 |      0.68  |\n",
      "+-----+------------+\n",
      "|  80 |      0.68  |\n",
      "+-----+------------+\n",
      "|  81 |      0.68  |\n",
      "+-----+------------+\n",
      "|  82 |      0.68  |\n",
      "+-----+------------+\n",
      "|  83 |      0.68  |\n",
      "+-----+------------+\n",
      "|  84 |      0.68  |\n",
      "+-----+------------+\n",
      "|  85 |      0.68  |\n",
      "+-----+------------+\n",
      "|  86 |      0.68  |\n",
      "+-----+------------+\n",
      "|  87 |      0.68  |\n",
      "+-----+------------+\n",
      "|  88 |      0.68  |\n",
      "+-----+------------+\n",
      "|  89 |      0.68  |\n",
      "+-----+------------+\n",
      "|  90 |      0.68  |\n",
      "+-----+------------+\n",
      "|  91 |      0.68  |\n",
      "+-----+------------+\n",
      "|  92 |      0.68  |\n",
      "+-----+------------+\n",
      "|  93 |      0.68  |\n",
      "+-----+------------+\n",
      "|  94 |      0.68  |\n",
      "+-----+------------+\n",
      "|  95 |      0.68  |\n",
      "+-----+------------+\n",
      "|  96 |      0.68  |\n",
      "+-----+------------+\n",
      "|  97 |      0.68  |\n",
      "+-----+------------+\n",
      "|  98 |      0.68  |\n",
      "+-----+------------+\n",
      "|  99 |      0.68  |\n",
      "+-----+------------+\n",
      "| 100 |      0.68  |\n",
      "+-----+------------+\n"
     ]
    }
   ],
   "source": [
    "accuracy_list = []\n",
    "tb_list = []\n",
    "for k in range(1,101):\n",
    "    knn = KNeighborsClassifier(n_neighbors=k)\n",
    "    knn.fit(X_train, y_train)\n",
    "    prediction = knn.predict(X_validation)\n",
    "    # print(classification_report(y_validation, prediction))\n",
    "    a_score = accuracy_score(y_validation, prediction)\n",
    "    accuracy_list.append(a_score)\n",
    "    result = k, a_score\n",
    "    tb_list.append(result)\n",
    "print(tabulate(tb_list, headers=['K',\"Accuracy\"], tablefmt='grid'))"
   ]
  },
  {
   "cell_type": "code",
   "execution_count": 113,
   "metadata": {},
   "outputs": [
    {
     "data": {
      "image/png": "[encoded data removed]",
      "text/plain": [
       "<Figure size 432x288 with 1 Axes>"
      ]
     },
     "metadata": {
      "needs_background": "light"
     },
     "output_type": "display_data"
    }
   ],
   "source": [
    "plt.plot(range(1,101), accuracy_list)\n",
    "plt.xlabel('Value of K')\n",
    "plt.ylabel('Accuracy')\n",
    "plt.show()"
   ]
  },
  {
   "cell_type": "markdown",
   "metadata": {},
   "source": [
    "### When k = 15, the accuracy is the highest (0.89) on the validation data, so we decide to pick k = 15 for the model"
   ]
  },
  {
   "cell_type": "markdown",
   "metadata": {},
   "source": [
    "### Predict the test data"
   ]
  },
  {
   "cell_type": "code",
   "execution_count": 114,
   "metadata": {},
   "outputs": [
    {
     "name": "stdout",
     "output_type": "stream",
     "text": [
      "The accuracy is 0.98\n",
      "The generalisation error is 0.02\n"
     ]
    }
   ],
   "source": [
    "df_train_final = df.iloc[0:600]\n",
    "\n",
    "X_train_final = df_train_final.drop(['goodwine','quality'], axis=1)\n",
    "y_train_final = df_train_final['goodwine']\n",
    "\n",
    "scaler = StandardScaler().fit(X_train_final) # getting new scaler from the combination of train and validation\n",
    "\n",
    "X_train_final = scaler.transform(X_train_final)\n",
    "\n",
    "X_test_final = scaler.transform(X_test)\n",
    "\n",
    "knn_15 = KNeighborsClassifier(n_neighbors=15)\n",
    "knn_15.fit(X_train_final, y_train_final)\n",
    "prediction = knn_15.predict(X_test_final)\n",
    "accuracy = accuracy_score(y_test, prediction)\n",
    "print(\"The accuracy is {}\".format(accuracy))\n",
    "g_error = 1 - accuracy\n",
    "g_error = round(g_error,2)\n",
    "print(\"The generalisation error is {}\".format(g_error))"
   ]
  },
  {
   "cell_type": "markdown",
   "metadata": {},
   "source": [
    "### How to judge whether the classifier is well-suited for the data set?"
   ]
  },
  {
   "cell_type": "markdown",
   "metadata": {},
   "source": [
    "#### When doing this assignment - we have only learnt one performance metric, which is Accuracy. Our accuracy is at 98% which is considered good. However, knowing that this is a classification model - we would also need to dig deeper in looking, firstly at the confusion matrix to measure the models false positive rate and true positive rate. Espicially, because good wine only represents 15% of the entire data set. This type of evaluation would have been done in the calibration step when we were assessing the model performance with the validaiton set (like the confusion matrix below)"
   ]
  },
  {
   "cell_type": "code",
   "execution_count": 115,
   "metadata": {},
   "outputs": [
    {
     "name": "stdout",
     "output_type": "stream",
     "text": [
      "              precision    recall  f1-score   support\n",
      "\n",
      "           0       0.87      0.99      0.92       136\n",
      "           1       0.98      0.67      0.80        64\n",
      "\n",
      "    accuracy                           0.89       200\n",
      "   macro avg       0.92      0.83      0.86       200\n",
      "weighted avg       0.90      0.89      0.88       200\n",
      "\n"
     ]
    }
   ],
   "source": [
    "knn = KNeighborsClassifier(n_neighbors=15)\n",
    "knn.fit(X_train, y_train)\n",
    "prediction = knn.predict(X_validation)\n",
    "print(classification_report(y_validation, prediction))"
   ]
  },
  {
   "cell_type": "code",
   "execution_count": null,
   "metadata": {},
   "outputs": [],
   "source": []
  }
 ],
 "metadata": {
  "kernelspec": {
   "display_name": "Python 3",
   "language": "python",
   "name": "python3"
  },
  "language_info": {
   "codemirror_mode": {
    "name": "ipython",
    "version": 3
   },
   "file_extension": ".py",
   "mimetype": "text/x-python",
   "name": "python",
   "nbconvert_exporter": "python",
   "pygments_lexer": "ipython3",
   "version": "3.7.4"
  }
 },
 "nbformat": 4,
 "nbformat_minor": 2
}
